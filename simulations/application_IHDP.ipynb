{
 "cells": [
  {
   "cell_type": "code",
   "execution_count": 1,
   "id": "dd5f0eba",
   "metadata": {},
   "outputs": [],
   "source": [
    "import doubleml as dml\n",
    "import numpy as np\n",
    "from flaml import AutoML\n",
    "import pandas as pd\n",
    "from sklearn.model_selection import train_test_split\n",
    "from sklearn.metrics import mean_squared_error, log_loss\n",
    "from sklearn.preprocessing import StandardScaler"
   ]
  },
  {
   "cell_type": "code",
   "execution_count": 4,
   "metadata": {},
   "outputs": [],
   "source": [
    "def load_and_format_covariates(file_path, delimiter=','):\n",
    "\n",
    "    data = np.loadtxt(file_path, delimiter=delimiter)\n",
    "\n",
    "    binfeats = [6, 7, 8, 9, 10, 11, 12, 13, 14, 15, 16, 17, 18, 19, 20, 21, 22, 23, 24]\n",
    "    contfeats = [i for i in range(25) if i not in binfeats]\n",
    "\n",
    "    mu_0, mu_1, x = data[:, 3][:, None], data[:, 4][:, None], data[:, 5:]\n",
    "    perm = binfeats + contfeats\n",
    "    x = x[:, perm]\n",
    "    return x\n",
    "\n",
    "\n",
    "def load_other_stuff(file_path, delimiter=','):\n",
    "    data = np.loadtxt(file_path, delimiter=delimiter)\n",
    "    t, y, y_cf = data[:, 0], data[:, 1][:, None], data[:, 2][:, None]\n",
    "    mu_0, mu_1, x = data[:, 3][:, None], data[:, 4][:, None], data[:, 5:]\n",
    "    return t.reshape(-1, 1), y, y_cf, mu_0, mu_1"
   ]
  },
  {
   "cell_type": "code",
   "execution_count": 22,
   "metadata": {},
   "outputs": [],
   "source": [
    "res_path = f\"../results/ihdp/\"\n",
    "mae_aml = []\n",
    "res_fullsample = []\n",
    "\n",
    "for i in range (100):\n",
    "    _res_full = []\n",
    "    path = f\"../dgp/ihdp/ihdp_{i+1}.csv\"\n",
    "    x = load_and_format_covariates(path, delimiter=' ')\n",
    "    t, y, y_cf, mu_0, mu_1 = load_other_stuff(path, delimiter=' ')\n",
    "    X = np.c_[t, x]\n",
    "    true_ATE = np.mean(mu_1 - mu_0)\n",
    "    y_scaler = StandardScaler(with_mean=True).fit(y)\n",
    "    y = y_scaler.transform(y)\n",
    "\n",
    "    while True:\n",
    "      try:\n",
    "        automl_y = AutoML()\n",
    "        automl_y.fit(X, y, task=\"regression\", time_budget=60, metric=\"mse\", verbose=False, estimator_list = None)\n",
    "        automl_d = AutoML()\n",
    "        automl_d.fit(x, t, task=\"classification\", time_budget=60, metric='log_loss', verbose=False, estimator_list = None)\n",
    "              \n",
    "        ml_g = automl_y.model.estimator\n",
    "        ml_m = automl_d.model.estimator\n",
    "        break\n",
    "      except:\n",
    "        pass\n",
    "\n",
    "    obj_dml_data = dml.DoubleMLData.from_arrays(x, y, t)\n",
    "    dml_irm_automl = dml.DoubleMLIRM(obj_dml_data, ml_g = ml_g, ml_m = ml_m, n_folds = 4, trimming_threshold=0.025)\n",
    "    dml_irm_automl.fit(store_predictions = True)\n",
    "    \n",
    "    _res_full.append(y_scaler.scale_[0] * dml_irm_automl.summary[\"coef\"].values[0])\n",
    "    _res_full.append(y_scaler.scale_[0] * dml_irm_automl.summary[\"2.5 %\"].values[0])\n",
    "    _res_full.append(y_scaler.scale_[0] * dml_irm_automl.summary[\"97.5 %\"].values[0])\n",
    "    _res_full.append(automl_y.best_loss)\n",
    "    _res_full.append(automl_d.best_loss)\n",
    "    treat_ind = (t == 1)\n",
    "    ml_g_pred = treat_ind.T * dml_irm_automl.predictions[\"ml_g1\"][:,0,0] + (1 - treat_ind).T * dml_irm_automl.predictions[\"ml_g0\"][:,0,0]\n",
    "    _res_full.append(mean_squared_error(y, ml_g_pred.T))\n",
    "    _res_full.append(log_loss(t, dml_irm_automl.predictions[\"ml_m\"][:,0,0]))\n",
    "    _res_full.append(true_ATE)\n",
    "\n",
    "    res_fullsample.append(_res_full)\n",
    "    pd.DataFrame(res_fullsample, columns = [\"coef\",\"2.5%\",\"97.5%\",\"tune_loss_mll\",\"tune_loss_mlm\",\"fs_loss_mll\",\"fs_loss_mlm\",\"true_ATE\"]).to_csv(res_path + f\"ihdp_flaml.csv\")\n"
   ]
  }
 ],
 "metadata": {
  "kernelspec": {
   "display_name": "Python 3",
   "language": "python",
   "name": "python3"
  },
  "language_info": {
   "codemirror_mode": {
    "name": "ipython",
    "version": 3
   },
   "file_extension": ".py",
   "mimetype": "text/x-python",
   "name": "python",
   "nbconvert_exporter": "python",
   "pygments_lexer": "ipython3",
   "version": "3.9.12"
  },
  "orig_nbformat": 4,
  "vscode": {
   "interpreter": {
    "hash": "8f33305f67a2cd4fce49cfe0fb8dea12a4f316415e2df00ee6a89784b5de5816"
   }
  }
 },
 "nbformat": 4,
 "nbformat_minor": 2
}
